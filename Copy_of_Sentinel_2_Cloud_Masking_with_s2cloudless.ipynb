{
  "nbformat": 4,
  "nbformat_minor": 0,
  "metadata": {
    "colab": {
      "provenance": []
    },
    "kernelspec": {
      "display_name": "Python 3",
      "name": "python3"
    }
  },
  "cells": [
    {
      "cell_type": "code",
      "metadata": {
        "id": "XeFsiSp2aDL6",
        "colab": {
          "base_uri": "https://localhost:8080/"
        },
        "outputId": "44bbdf65-01bc-434f-90ec-e03d273497f2"
      },
      "source": [
        "import ee\n",
        "\n",
        "# Trigger the authentication flow.\n",
        "ee.Authenticate()\n",
        "\n",
        "# Initialize the library.\n",
        "ee.Initialize()"
      ],
      "execution_count": 6,
      "outputs": [
        {
          "output_type": "stream",
          "name": "stdout",
          "text": [
            "To authorize access needed by Earth Engine, open the following URL in a web browser and follow the instructions. If the web browser does not start automatically, please manually browse the URL below.\n",
            "\n",
            "    https://code.earthengine.google.com/client-auth?scopes=https%3A//www.googleapis.com/auth/earthengine%20https%3A//www.googleapis.com/auth/devstorage.full_control&request_id=MUxW0VpiTm0BbqueXzEzTTs3rcA4Q3rIS0qllKACIkc&tc=48wOB3Cu8q21p_oDtZeMn7CpWnjKRCin3Pi8g_qwb30&cc=zx_OxlatGHSE5bjbgK2kB6AAUk0dCFbBa0lOGP_fpFo\n",
            "\n",
            "The authorization workflow will generate a code, which you should paste in the box below.\n",
            "Enter verification code: 4/1AbUR2VPVJtTEge-8DcsaSs3g24ICNN-vSD8BTArpeaRwLT8VqDhku9OxezY\n",
            "\n",
            "Successfully saved authorization token.\n"
          ]
        }
      ]
    },
    {
      "cell_type": "code",
      "source": [
        "!pip install jdatetime"
      ],
      "metadata": {
        "id": "MR6Florzqc4B",
        "colab": {
          "base_uri": "https://localhost:8080/"
        },
        "outputId": "9e68630c-2243-437d-bcdb-aca33a014173"
      },
      "execution_count": 1,
      "outputs": [
        {
          "output_type": "stream",
          "name": "stdout",
          "text": [
            "Looking in indexes: https://pypi.org/simple, https://us-python.pkg.dev/colab-wheels/public/simple/\n",
            "Collecting jdatetime\n",
            "  Downloading jdatetime-4.1.1-py3-none-any.whl (13 kB)\n",
            "Installing collected packages: jdatetime\n",
            "Successfully installed jdatetime-4.1.1\n"
          ]
        }
      ]
    },
    {
      "cell_type": "code",
      "metadata": {
        "id": "qBjBmX4-WFG7",
        "colab": {
          "base_uri": "https://localhost:8080/"
        },
        "outputId": "79100a5a-4f8f-4496-eadb-afafd137a710"
      },
      "source": [
        "import datetime\n",
        "from dateutil.relativedelta import relativedelta\n",
        "import jdatetime\n",
        "\n",
        "def jalali_to_gregorian(date):\n",
        "    date_gregorian = jdatetime.date(year=date.year, month=date.month, day=date.day).togregorian()\n",
        "    return date_gregorian.strftime(\"%Y-%m-%d\")\n",
        "\n",
        "# Define the AOI geometry\n",
        "AOI = ee.Geometry.Polygon(\n",
        "  [[[50.01184816666665, 36.83352820000001],\n",
        "  [50.01184816666665, 37.01750912500001],\n",
        "  [50.24125524999999, 37.01750912500001],\n",
        "  [50.24125524999999, 36.83352820000001],\n",
        "  [50.01184816666665, 36.83352820000001]]])\n",
        "\n",
        "\n",
        "\n",
        "# Convert the end date to Gregorian\n",
        "end_date_jalali = \"1401-02-13\"  # Replace with your Jalali end date\n",
        "end_date = jdatetime.datetime.strptime(end_date_jalali, '%Y-%m-%d').date()\n",
        "END_DATE = jalali_to_gregorian(end_date)\n",
        "\n",
        "# Calculate the start date by subtracting 14 days from the end date\n",
        "start_date = end_date - jdatetime.timedelta(days=14)\n",
        "\n",
        "START_DATE = jalali_to_gregorian(start_date)\n",
        "\n",
        "# Set the remaining parameters\n",
        "CLOUD_FILTER = 30\n",
        "CLD_PRB_THRESH = 70\n",
        "NIR_DRK_THRESH = 0.25\n",
        "CLD_PRJ_DIST = 2\n",
        "BUFFER =50\n",
        "END_DATE, START_DATE"
      ],
      "execution_count": 7,
      "outputs": [
        {
          "output_type": "execute_result",
          "data": {
            "text/plain": [
              "('2022-05-03', '2022-04-19')"
            ]
          },
          "metadata": {},
          "execution_count": 7
        }
      ]
    },
    {
      "cell_type": "code",
      "metadata": {
        "id": "JPjOhSvGZAY8"
      },
      "source": [
        "# Import the folium library.\n",
        "import folium\n",
        "\n",
        "# Define a method for displaying Earth Engine image tiles to a folium map.\n",
        "def add_ee_layer(self, ee_image_object, vis_params, name, show=True, opacity=1, min_zoom=0):\n",
        "    map_id_dict = ee.Image(ee_image_object).getMapId(vis_params)\n",
        "    folium.raster_layers.TileLayer(\n",
        "        tiles=map_id_dict['tile_fetcher'].url_format,\n",
        "        attr='Map Data &copy; <a href=\"https://earthengine.google.com/\">Google Earth Engine</a>',\n",
        "        name=name,\n",
        "        show=show,\n",
        "        opacity=opacity,\n",
        "        min_zoom=min_zoom,\n",
        "        overlay=True,\n",
        "        control=True\n",
        "        ).add_to(self)\n",
        "\n",
        "# Add the Earth Engine layer method to folium.\n",
        "folium.Map.add_ee_layer = add_ee_layer"
      ],
      "execution_count": 8,
      "outputs": []
    },
    {
      "cell_type": "code",
      "metadata": {
        "id": "yE9x4KREYfnD"
      },
      "source": [
        "def add_cloud_bands(img):\n",
        "    # Get s2cloudless image, subset the probability band.\n",
        "    cld_prb = ee.Image(img.get('s2cloudless')).select('probability')\n",
        "\n",
        "    # Condition s2cloudless by the probability threshold value.\n",
        "    is_cloud = cld_prb.gt(CLD_PRB_THRESH).rename('clouds')\n",
        "\n",
        "    # Add the cloud probability layer and cloud mask as image bands.\n",
        "    return img.addBands(ee.Image([cld_prb, is_cloud]))"
      ],
      "execution_count": 9,
      "outputs": []
    },
    {
      "cell_type": "code",
      "source": [
        "def add_shadow_bands(img):\n",
        "    # Identify water pixels from the SCL band.\n",
        "    not_water = img.select('SCL').neq(6)\n",
        "\n",
        "    # Identify dark NIR pixels that are not water (potential cloud shadow pixels).\n",
        "    SR_BAND_SCALE = 1e4\n",
        "    dark_pixels = img.select('B8').lt(NIR_DRK_THRESH*SR_BAND_SCALE).multiply(not_water).rename('dark_pixels')\n",
        "\n",
        "    # Determine the direction to project cloud shadow from clouds (assumes UTM projection).\n",
        "    shadow_azimuth = ee.Number(90).subtract(ee.Number(img.get('MEAN_SOLAR_AZIMUTH_ANGLE')));\n",
        "\n",
        "    # Project shadows from clouds for the distance specified by the CLD_PRJ_DIST input.\n",
        "    cld_proj = (img.select('clouds').directionalDistanceTransform(shadow_azimuth, CLD_PRJ_DIST*10)\n",
        "        .reproject(**{'crs': img.select(0).projection(), 'scale': 100})\n",
        "        .select('distance')\n",
        "        .mask()\n",
        "        .rename('cloud_transform'))\n",
        "\n",
        "    # Identify the intersection of dark pixels with cloud shadow projection.\n",
        "    shadows = cld_proj.multiply(dark_pixels).rename('shadows')\n",
        "\n",
        "    # Add dark pixels, cloud projection, and identified shadows as image bands.\n",
        "    return img.addBands(ee.Image([dark_pixels, cld_proj, shadows]))"
      ],
      "metadata": {
        "id": "cs94b1xqkAnc"
      },
      "execution_count": 10,
      "outputs": []
    },
    {
      "cell_type": "code",
      "metadata": {
        "id": "VNP-VlmwccKG"
      },
      "source": [
        "def add_cld_shdw_mask(img):\n",
        "    # Add cloud component bands.\n",
        "    img_cloud = add_cloud_bands(img)\n",
        "\n",
        "    # Add cloud shadow component bands.\n",
        "    img_cloud_shadow = add_shadow_bands(img_cloud)\n",
        "\n",
        "    # Combine cloud and shadow mask, set cloud and shadow as value 1, else 0.\n",
        "    is_cld_shdw = img_cloud_shadow.select('clouds').add(img_cloud_shadow.select('shadows')).gt(0)\n",
        "\n",
        "    # Remove small cloud-shadow patches and dilate remaining pixels by BUFFER input.\n",
        "    # 20 m scale is for speed, and assumes clouds don't require 10 m precision.\n",
        "    is_cld_shdw = (is_cld_shdw.focalMin(2).focalMax(BUFFER*2/20)\n",
        "        .reproject(**{'crs': img.select([0]).projection(), 'scale': 20})\n",
        "        .rename('cloudsdwmask'))\n",
        "\n",
        "    # Add the final cloud-shadow mask to the image.\n",
        "    return img_cloud_shadow.addBands(is_cld_shdw)"
      ],
      "execution_count": 11,
      "outputs": []
    },
    {
      "cell_type": "code",
      "source": [
        "\n",
        "def display_cloud_layers(col):\n",
        "    # Mosaic the image collection.\n",
        "    img = col.mosaic()\n",
        "    # Subset layers and prepare them for display.\n",
        "    clouds = img.select('clouds').selfMask()\n",
        "    shadows = img.select('shadows').selfMask()\n",
        "    dark_pixels = img.select('dark_pixels').selfMask()\n",
        "    cloudshdwmask = img.select('cloudsdwmask').selfMask()\n",
        "    # Create a folium map object.\n",
        "    center = AOI.centroid(10).coordinates().reverse().getInfo()\n",
        "    m = folium.Map(location=center, zoom_start=12)\n",
        "\n",
        "    # Add layers to the folium map\n",
        "\n",
        "    m.add_ee_layer(img,\n",
        "                {'bands': ['B4', 'B3', 'B2'], 'min': 0, 'max': 2500, 'gamma': 1.1},\n",
        "                'S2 image', True, 1, 9)\n",
        "\n",
        "    m.add_ee_layer(cloudshdwmask, {'palette': 'orange'},\n",
        "                   'cloudshadowmask', True, 0.5, 9)\n",
        "    m.add_ee_layer(clouds, {'palette': 'orange'},\n",
        "                   'clouds', True, 0.5, 9)\n",
        "    m.add_ee_layer(dark_pixels,\n",
        "                   {'palette': 'orange'},\n",
        "                   'dark_pixels', False, 1, 9)\n",
        "    m.add_ee_layer(shadows, {'palette': 'yellow'},\n",
        "                   'shadows', False, 1, 9)\n",
        "    # Add a layer control panel to the map.\n",
        "    m.add_child(folium.LayerControl())\n",
        "\n",
        "    # Display the map.\n",
        "    display(m)"
      ],
      "metadata": {
        "id": "tf1RxlDYat1b"
      },
      "execution_count": 12,
      "outputs": []
    },
    {
      "cell_type": "code",
      "source": [
        "def get_s2_sr_cld_col(aoi, start_date, end_date):\n",
        "    # Import and filter S2 SR.\n",
        "    s2_sr_col = (ee.ImageCollection('COPERNICUS/S2_SR')\n",
        "        .filterBounds(aoi)\n",
        "        .filterDate(start_date, end_date)\n",
        "        .filter(ee.Filter.lte('CLOUDY_PIXEL_PERCENTAGE', CLOUD_FILTER)))\n",
        "\n",
        "    # Import and filter s2cloudless.\n",
        "    s2_cloudless_col = (ee.ImageCollection('COPERNICUS/S2_CLOUD_PROBABILITY')\n",
        "        .filterBounds(aoi)\n",
        "        .filterDate(start_date, end_date))\n",
        "\n",
        "    # Join the filtered s2cloudless collection to the SR collection by the 'system:index' property.\n",
        "    return ee.ImageCollection(ee.Join.saveFirst('s2cloudless').apply(**{\n",
        "        'primary': s2_sr_col,\n",
        "        'secondary': s2_cloudless_col,\n",
        "        'condition': ee.Filter.equals(**{\n",
        "            'leftField': 'system:index',\n",
        "            'rightField': 'system:index'\n",
        "        })\n",
        "    }))"
      ],
      "metadata": {
        "id": "gGKL2whbWIqX"
      },
      "execution_count": 13,
      "outputs": []
    },
    {
      "cell_type": "code",
      "metadata": {
        "id": "WhpT9SpeW0W2"
      },
      "source": [
        "s2_sr_cld_col_eval = get_s2_sr_cld_col(AOI, START_DATE, END_DATE)"
      ],
      "execution_count": 14,
      "outputs": []
    },
    {
      "cell_type": "code",
      "source": [
        "s2_sr_cld_col_eval_disp = s2_sr_cld_col_eval.map(add_cld_shdw_mask)\n",
        "#get_band_names(s2_sr_cld_col_eval_disp)"
      ],
      "metadata": {
        "id": "FdN-t2dZ_AIy"
      },
      "execution_count": 15,
      "outputs": []
    },
    {
      "cell_type": "code",
      "source": [
        "display_cloud_layers(s2_sr_cld_col_eval_disp)"
      ],
      "metadata": {
        "colab": {
          "base_uri": "https://localhost:8080/",
          "height": 649
        },
        "id": "-p2eiawoa60a",
        "outputId": "af5e4d14-a553-42ee-9c4d-832698c63601"
      },
      "execution_count": 16,
      "outputs": [
        {
          "output_type": "display_data",
          "data": {
            "text/plain": [
              "<folium.folium.Map at 0x7f667a4f1cf0>"
            ],
            "text/html": [
              "<div style=\"width:100%;\"><div style=\"position:relative;width:100%;height:0;padding-bottom:60%;\"><span style=\"color:#565656\">Make this Notebook Trusted to load map: File -> Trust Notebook</span><iframe srcdoc=\"&lt;!DOCTYPE html&gt;\n",
              "&lt;html&gt;\n",
              "&lt;head&gt;\n",
              "    \n",
              "    &lt;meta http-equiv=&quot;content-type&quot; content=&quot;text/html; charset=UTF-8&quot; /&gt;\n",
              "    \n",
              "        &lt;script&gt;\n",
              "            L_NO_TOUCH = false;\n",
              "            L_DISABLE_3D = false;\n",
              "        &lt;/script&gt;\n",
              "    \n",
              "    &lt;style&gt;html, body {width: 100%;height: 100%;margin: 0;padding: 0;}&lt;/style&gt;\n",
              "    &lt;style&gt;#map {position:absolute;top:0;bottom:0;right:0;left:0;}&lt;/style&gt;\n",
              "    &lt;script src=&quot;https://cdn.jsdelivr.net/npm/leaflet@1.9.3/dist/leaflet.js&quot;&gt;&lt;/script&gt;\n",
              "    &lt;script src=&quot;https://code.jquery.com/jquery-1.12.4.min.js&quot;&gt;&lt;/script&gt;\n",
              "    &lt;script src=&quot;https://cdn.jsdelivr.net/npm/bootstrap@5.2.2/dist/js/bootstrap.bundle.min.js&quot;&gt;&lt;/script&gt;\n",
              "    &lt;script src=&quot;https://cdnjs.cloudflare.com/ajax/libs/Leaflet.awesome-markers/2.0.2/leaflet.awesome-markers.js&quot;&gt;&lt;/script&gt;\n",
              "    &lt;link rel=&quot;stylesheet&quot; href=&quot;https://cdn.jsdelivr.net/npm/leaflet@1.9.3/dist/leaflet.css&quot;/&gt;\n",
              "    &lt;link rel=&quot;stylesheet&quot; href=&quot;https://cdn.jsdelivr.net/npm/bootstrap@5.2.2/dist/css/bootstrap.min.css&quot;/&gt;\n",
              "    &lt;link rel=&quot;stylesheet&quot; href=&quot;https://netdna.bootstrapcdn.com/bootstrap/3.0.0/css/bootstrap.min.css&quot;/&gt;\n",
              "    &lt;link rel=&quot;stylesheet&quot; href=&quot;https://cdn.jsdelivr.net/npm/@fortawesome/fontawesome-free@6.2.0/css/all.min.css&quot;/&gt;\n",
              "    &lt;link rel=&quot;stylesheet&quot; href=&quot;https://cdnjs.cloudflare.com/ajax/libs/Leaflet.awesome-markers/2.0.2/leaflet.awesome-markers.css&quot;/&gt;\n",
              "    &lt;link rel=&quot;stylesheet&quot; href=&quot;https://cdn.jsdelivr.net/gh/python-visualization/folium/folium/templates/leaflet.awesome.rotate.min.css&quot;/&gt;\n",
              "    \n",
              "            &lt;meta name=&quot;viewport&quot; content=&quot;width=device-width,\n",
              "                initial-scale=1.0, maximum-scale=1.0, user-scalable=no&quot; /&gt;\n",
              "            &lt;style&gt;\n",
              "                #map_9e920a9e21b9d20f911cf962ecaf727a {\n",
              "                    position: relative;\n",
              "                    width: 100.0%;\n",
              "                    height: 100.0%;\n",
              "                    left: 0.0%;\n",
              "                    top: 0.0%;\n",
              "                }\n",
              "                .leaflet-container { font-size: 1rem; }\n",
              "            &lt;/style&gt;\n",
              "        \n",
              "&lt;/head&gt;\n",
              "&lt;body&gt;\n",
              "    \n",
              "    \n",
              "            &lt;div class=&quot;folium-map&quot; id=&quot;map_9e920a9e21b9d20f911cf962ecaf727a&quot; &gt;&lt;/div&gt;\n",
              "        \n",
              "&lt;/body&gt;\n",
              "&lt;script&gt;\n",
              "    \n",
              "    \n",
              "            var map_9e920a9e21b9d20f911cf962ecaf727a = L.map(\n",
              "                &quot;map_9e920a9e21b9d20f911cf962ecaf727a&quot;,\n",
              "                {\n",
              "                    center: [36.92553680663232, 50.12655170833266],\n",
              "                    crs: L.CRS.EPSG3857,\n",
              "                    zoom: 12,\n",
              "                    zoomControl: true,\n",
              "                    preferCanvas: false,\n",
              "                }\n",
              "            );\n",
              "\n",
              "            \n",
              "\n",
              "        \n",
              "    \n",
              "            var tile_layer_e29165bde8fe02095890ce1e9af0548a = L.tileLayer(\n",
              "                &quot;https://{s}.tile.openstreetmap.org/{z}/{x}/{y}.png&quot;,\n",
              "                {&quot;attribution&quot;: &quot;Data by \\u0026copy; \\u003ca target=\\&quot;_blank\\&quot; href=\\&quot;http://openstreetmap.org\\&quot;\\u003eOpenStreetMap\\u003c/a\\u003e, under \\u003ca target=\\&quot;_blank\\&quot; href=\\&quot;http://www.openstreetmap.org/copyright\\&quot;\\u003eODbL\\u003c/a\\u003e.&quot;, &quot;detectRetina&quot;: false, &quot;maxNativeZoom&quot;: 18, &quot;maxZoom&quot;: 18, &quot;minZoom&quot;: 0, &quot;noWrap&quot;: false, &quot;opacity&quot;: 1, &quot;subdomains&quot;: &quot;abc&quot;, &quot;tms&quot;: false}\n",
              "            ).addTo(map_9e920a9e21b9d20f911cf962ecaf727a);\n",
              "        \n",
              "    \n",
              "            var tile_layer_ba2b31b3dbafa5bd512b259d3a94ba0c = L.tileLayer(\n",
              "                &quot;https://earthengine.googleapis.com/v1alpha/projects/earthengine-legacy/maps/21c7c8beaaab4cc8ae4f4af3aabd3ada-ab36fafc3ddcbef544f3753338cd150a/tiles/{z}/{x}/{y}&quot;,\n",
              "                {&quot;attribution&quot;: &quot;Map Data \\u0026copy; \\u003ca href=\\&quot;https://earthengine.google.com/\\&quot;\\u003eGoogle Earth Engine\\u003c/a\\u003e&quot;, &quot;detectRetina&quot;: false, &quot;maxNativeZoom&quot;: 18, &quot;maxZoom&quot;: 18, &quot;minZoom&quot;: 9, &quot;noWrap&quot;: false, &quot;opacity&quot;: 1, &quot;subdomains&quot;: &quot;abc&quot;, &quot;tms&quot;: false}\n",
              "            ).addTo(map_9e920a9e21b9d20f911cf962ecaf727a);\n",
              "        \n",
              "    \n",
              "            var tile_layer_4c3890a99af96e3bc24b8c45bb4e98c7 = L.tileLayer(\n",
              "                &quot;https://earthengine.googleapis.com/v1alpha/projects/earthengine-legacy/maps/686f790e820b313945be28a43d6094b0-91c51190366a3729e9468fee6e219f79/tiles/{z}/{x}/{y}&quot;,\n",
              "                {&quot;attribution&quot;: &quot;Map Data \\u0026copy; \\u003ca href=\\&quot;https://earthengine.google.com/\\&quot;\\u003eGoogle Earth Engine\\u003c/a\\u003e&quot;, &quot;detectRetina&quot;: false, &quot;maxNativeZoom&quot;: 18, &quot;maxZoom&quot;: 18, &quot;minZoom&quot;: 9, &quot;noWrap&quot;: false, &quot;opacity&quot;: 0.5, &quot;subdomains&quot;: &quot;abc&quot;, &quot;tms&quot;: false}\n",
              "            ).addTo(map_9e920a9e21b9d20f911cf962ecaf727a);\n",
              "        \n",
              "    \n",
              "            var tile_layer_acf1facf9cfd743e55618a7e7349c2bb = L.tileLayer(\n",
              "                &quot;https://earthengine.googleapis.com/v1alpha/projects/earthengine-legacy/maps/909690e88403e0603575d793556328f1-cfb794c4f3e1d307da3303d893bf95d4/tiles/{z}/{x}/{y}&quot;,\n",
              "                {&quot;attribution&quot;: &quot;Map Data \\u0026copy; \\u003ca href=\\&quot;https://earthengine.google.com/\\&quot;\\u003eGoogle Earth Engine\\u003c/a\\u003e&quot;, &quot;detectRetina&quot;: false, &quot;maxNativeZoom&quot;: 18, &quot;maxZoom&quot;: 18, &quot;minZoom&quot;: 9, &quot;noWrap&quot;: false, &quot;opacity&quot;: 0.5, &quot;subdomains&quot;: &quot;abc&quot;, &quot;tms&quot;: false}\n",
              "            ).addTo(map_9e920a9e21b9d20f911cf962ecaf727a);\n",
              "        \n",
              "    \n",
              "            var tile_layer_61cce95b0dbb1b907b8a2bb0087bd089 = L.tileLayer(\n",
              "                &quot;https://earthengine.googleapis.com/v1alpha/projects/earthengine-legacy/maps/3a854b694a3cd0af6395961f46a06bbb-34b21261486f29fbcc677eca93bbd176/tiles/{z}/{x}/{y}&quot;,\n",
              "                {&quot;attribution&quot;: &quot;Map Data \\u0026copy; \\u003ca href=\\&quot;https://earthengine.google.com/\\&quot;\\u003eGoogle Earth Engine\\u003c/a\\u003e&quot;, &quot;detectRetina&quot;: false, &quot;maxNativeZoom&quot;: 18, &quot;maxZoom&quot;: 18, &quot;minZoom&quot;: 9, &quot;noWrap&quot;: false, &quot;opacity&quot;: 1, &quot;subdomains&quot;: &quot;abc&quot;, &quot;tms&quot;: false}\n",
              "            ).addTo(map_9e920a9e21b9d20f911cf962ecaf727a);\n",
              "        \n",
              "    \n",
              "            var tile_layer_1442e7e79bde6809185bcfc23825364b = L.tileLayer(\n",
              "                &quot;https://earthengine.googleapis.com/v1alpha/projects/earthengine-legacy/maps/f1f8e148aa00ce2d95e9f320fd49f46e-28081949c885c9e98c414c6aaa0a44ae/tiles/{z}/{x}/{y}&quot;,\n",
              "                {&quot;attribution&quot;: &quot;Map Data \\u0026copy; \\u003ca href=\\&quot;https://earthengine.google.com/\\&quot;\\u003eGoogle Earth Engine\\u003c/a\\u003e&quot;, &quot;detectRetina&quot;: false, &quot;maxNativeZoom&quot;: 18, &quot;maxZoom&quot;: 18, &quot;minZoom&quot;: 9, &quot;noWrap&quot;: false, &quot;opacity&quot;: 1, &quot;subdomains&quot;: &quot;abc&quot;, &quot;tms&quot;: false}\n",
              "            ).addTo(map_9e920a9e21b9d20f911cf962ecaf727a);\n",
              "        \n",
              "    \n",
              "            var layer_control_abd3cd4e7d9c83bf96a0bc6db353a0c7 = {\n",
              "                base_layers : {\n",
              "                    &quot;openstreetmap&quot; : tile_layer_e29165bde8fe02095890ce1e9af0548a,\n",
              "                },\n",
              "                overlays :  {\n",
              "                    &quot;S2 image&quot; : tile_layer_ba2b31b3dbafa5bd512b259d3a94ba0c,\n",
              "                    &quot;cloudshadowmask&quot; : tile_layer_4c3890a99af96e3bc24b8c45bb4e98c7,\n",
              "                    &quot;clouds&quot; : tile_layer_acf1facf9cfd743e55618a7e7349c2bb,\n",
              "                    &quot;dark_pixels&quot; : tile_layer_61cce95b0dbb1b907b8a2bb0087bd089,\n",
              "                    &quot;shadows&quot; : tile_layer_1442e7e79bde6809185bcfc23825364b,\n",
              "                },\n",
              "            };\n",
              "            L.control.layers(\n",
              "                layer_control_abd3cd4e7d9c83bf96a0bc6db353a0c7.base_layers,\n",
              "                layer_control_abd3cd4e7d9c83bf96a0bc6db353a0c7.overlays,\n",
              "                {&quot;autoZIndex&quot;: true, &quot;collapsed&quot;: true, &quot;position&quot;: &quot;topright&quot;}\n",
              "            ).addTo(map_9e920a9e21b9d20f911cf962ecaf727a);\n",
              "            tile_layer_61cce95b0dbb1b907b8a2bb0087bd089.remove();\n",
              "            tile_layer_1442e7e79bde6809185bcfc23825364b.remove();\n",
              "        \n",
              "&lt;/script&gt;\n",
              "&lt;/html&gt;\" style=\"position:absolute;width:100%;height:100%;left:0;top:0;border:none !important;\" allowfullscreen webkitallowfullscreen mozallowfullscreen></iframe></div></div>"
            ]
          },
          "metadata": {}
        }
      ]
    },
    {
      "cell_type": "code",
      "metadata": {
        "id": "VyR9JYxbbJJQ"
      },
      "source": [
        "def apply_cld_shdw_mask(img):\n",
        "    # Subset the cloudmask band and invert it so clouds/shadow are 0, else 1.\n",
        "    not_cld_shdw = img.select('cloudsdwmask').Not()\n",
        "\n",
        "    # Subset reflectance bands and update their masks, return the result.\n",
        "    return img.updateMask(not_cld_shdw)"
      ],
      "execution_count": 20,
      "outputs": []
    },
    {
      "cell_type": "code",
      "metadata": {
        "id": "AIk8xa0ImRTS"
      },
      "source": [
        "s2_sr_cld_col = get_s2_sr_cld_col(AOI, START_DATE, END_DATE)"
      ],
      "execution_count": 21,
      "outputs": []
    },
    {
      "cell_type": "code",
      "source": [
        "def get_image_count(collection):\n",
        "    # Get the number of images in the collection\n",
        "    image_count = collection.size()\n",
        "\n",
        "    # Return the image count as an integer\n",
        "    return int(image_count.getInfo())"
      ],
      "metadata": {
        "id": "W6WM2zGmPNey"
      },
      "execution_count": 22,
      "outputs": []
    },
    {
      "cell_type": "code",
      "source": [
        "# Get the number of images in the collection\n",
        "image_count = get_image_count(s2_sr_cld_col_eval)\n",
        "\n",
        "# Print the number of images\n",
        "print(\"Image Count:\", image_count)"
      ],
      "metadata": {
        "colab": {
          "base_uri": "https://localhost:8080/"
        },
        "id": "rhsxs0DPPUR4",
        "outputId": "34f1056a-3913-4d4c-c252-4c059c588aee"
      },
      "execution_count": 23,
      "outputs": [
        {
          "output_type": "stream",
          "name": "stdout",
          "text": [
            "Image Count: 4\n"
          ]
        }
      ]
    },
    {
      "cell_type": "code",
      "source": [
        "def get_band_names(collection):\n",
        "    # Get the first image in the collection\n",
        "    first_image = ee.Image(collection.first())\n",
        "\n",
        "    # Get the band names of the first image\n",
        "    band_names = first_image.bandNames()\n",
        "\n",
        "    # Return the band names as a list\n",
        "    return band_names.getInfo()"
      ],
      "metadata": {
        "id": "A5G3-8RqPerw"
      },
      "execution_count": 24,
      "outputs": []
    },
    {
      "cell_type": "code",
      "source": [
        "get_band_names(s2_sr_cld_col)"
      ],
      "metadata": {
        "id": "0oyYSp6cMsBp"
      },
      "execution_count": null,
      "outputs": []
    },
    {
      "cell_type": "code",
      "metadata": {
        "id": "G2XogQYycO53"
      },
      "source": [
        "s2_sr_median = (s2_sr_cld_col.map(add_cld_shdw_mask)\n",
        "                             .map(apply_cld_shdw_mask)\n",
        "                             .median())\n",
        "\n",
        "s2_sr_first = (s2_sr_cld_col.map(add_cld_shdw_mask)\n",
        "                             .map(apply_cld_shdw_mask).sort(\"CLOUDY_PIXEL_PERCENTAGE\")\n",
        "                             .first())"
      ],
      "execution_count": 39,
      "outputs": []
    },
    {
      "cell_type": "code",
      "source": [
        "# Check available band names in s2_sr_median\n",
        "available_bands = s2_sr_median.bandNames().getInfo()\n",
        "print(\"Available bands:\", available_bands)\n"
      ],
      "metadata": {
        "colab": {
          "base_uri": "https://localhost:8080/"
        },
        "id": "xN1S423FVAQC",
        "outputId": "2ee2963e-9db5-4fbe-f6f1-44aec726062a"
      },
      "execution_count": 40,
      "outputs": [
        {
          "output_type": "stream",
          "name": "stdout",
          "text": [
            "Available bands: ['B1', 'B2', 'B3', 'B4', 'B5', 'B6', 'B7', 'B8', 'B8A', 'B9', 'B11', 'B12', 'AOT', 'WVP', 'SCL', 'TCI_R', 'TCI_G', 'TCI_B', 'MSK_CLDPRB', 'MSK_SNWPRB', 'QA10', 'QA20', 'QA60', 'probability', 'clouds', 'dark_pixels', 'cloud_transform', 'shadows', 'cloudsdwmask']\n"
          ]
        }
      ]
    },
    {
      "cell_type": "code",
      "metadata": {
        "id": "9yow4KRVZGST"
      },
      "source": [
        "def display_layers(col):\n",
        "    # Mosaic the image collection.\n",
        "    img = col.mosaic()\n",
        "    img_col_nocldshdw = (col.map(add_cld_shdw_mask)\n",
        "                           .map(apply_cld_shdw_mask).mosaic())\n",
        "    s2_sr_image = col.sort(\"CLOUDY_PIXEL_PERCENTAGE\").first()\n",
        "\n",
        "    # Create a folium map object.\n",
        "    center = AOI.centroid(10).coordinates().reverse().getInfo()\n",
        "    m = folium.Map(location=center, zoom_start=12)\n",
        "\n",
        "    #ADD layers\n",
        "    # Loop through each image in the collection.\n",
        "    images = col.toList(col.size())\n",
        "    for i in range(col.size().getInfo()):\n",
        "        image = ee.Image(images.get(i))\n",
        "\n",
        "        # Add the image as a layer to the folium map.\n",
        "        m.add_ee_layer(image,\n",
        "                       {'bands': ['B4', 'B3', 'B2'], 'min': 0, 'max': 2500, 'gamma': 1.1},\n",
        "                       f'Image {i+1}', True, 1, 9)\n",
        "\n",
        "    m.add_ee_layer(img,\n",
        "                {'bands': ['B4', 'B3', 'B2'], 'min': 0, 'max': 2500, 'gamma': 1.1},\n",
        "                'S2 image mosaic', True, 1, 9)\n",
        "    m.add_ee_layer(s2_sr_image,\n",
        "                {'bands': ['B4', 'B3', 'B2'], 'min': 0, 'max': 2500, 'gamma': 1.1},\n",
        "                'the least cloud of collection', True, 1, 9)\n",
        "    m.add_ee_layer(img_col_nocldshdw,\n",
        "                {'bands': ['B4', 'B3', 'B2'], 'min': 0, 'max': 2500, 'gamma': 1.1},\n",
        "                'mosaic_nocldshdw', True, 1, 9)\n",
        "\n",
        "    m.add_ee_layer(s2_sr_first,\n",
        "                {'bands': ['B4', 'B3', 'B2'], 'min': 0, 'max': 2500, 'gamma': 1.1},\n",
        "                'S2 cloud first', True, 1, 9)\n",
        "    m.add_ee_layer(s2_sr_median,\n",
        "                {'bands': ['B4', 'B3', 'B2'], 'min': 0, 'max': 2500, 'gamma': 1.1},\n",
        "                'S2 cloud median', True, 1, 9)\n",
        "\n",
        "\n",
        "    # Add a layer control panel to the map.\n",
        "    m.add_child(folium.LayerControl())\n",
        "\n",
        "    # Display the map.\n",
        "    display(m)"
      ],
      "execution_count": 55,
      "outputs": []
    },
    {
      "cell_type": "code",
      "metadata": {
        "id": "gvsULCqgdLHu",
        "colab": {
          "base_uri": "https://localhost:8080/",
          "height": 649
        },
        "outputId": "d76ea982-3b27-4f8c-ea90-9612d31f2d60"
      },
      "source": [
        "display_layers(s2_sr_cld_col)"
      ],
      "execution_count": 56,
      "outputs": [
        {
          "output_type": "display_data",
          "data": {
            "text/plain": [
              "<folium.folium.Map at 0x7f666d483910>"
            ],
            "text/html": [
              "<div style=\"width:100%;\"><div style=\"position:relative;width:100%;height:0;padding-bottom:60%;\"><span style=\"color:#565656\">Make this Notebook Trusted to load map: File -> Trust Notebook</span><iframe srcdoc=\"&lt;!DOCTYPE html&gt;\n",
              "&lt;html&gt;\n",
              "&lt;head&gt;\n",
              "    \n",
              "    &lt;meta http-equiv=&quot;content-type&quot; content=&quot;text/html; charset=UTF-8&quot; /&gt;\n",
              "    \n",
              "        &lt;script&gt;\n",
              "            L_NO_TOUCH = false;\n",
              "            L_DISABLE_3D = false;\n",
              "        &lt;/script&gt;\n",
              "    \n",
              "    &lt;style&gt;html, body {width: 100%;height: 100%;margin: 0;padding: 0;}&lt;/style&gt;\n",
              "    &lt;style&gt;#map {position:absolute;top:0;bottom:0;right:0;left:0;}&lt;/style&gt;\n",
              "    &lt;script src=&quot;https://cdn.jsdelivr.net/npm/leaflet@1.9.3/dist/leaflet.js&quot;&gt;&lt;/script&gt;\n",
              "    &lt;script src=&quot;https://code.jquery.com/jquery-1.12.4.min.js&quot;&gt;&lt;/script&gt;\n",
              "    &lt;script src=&quot;https://cdn.jsdelivr.net/npm/bootstrap@5.2.2/dist/js/bootstrap.bundle.min.js&quot;&gt;&lt;/script&gt;\n",
              "    &lt;script src=&quot;https://cdnjs.cloudflare.com/ajax/libs/Leaflet.awesome-markers/2.0.2/leaflet.awesome-markers.js&quot;&gt;&lt;/script&gt;\n",
              "    &lt;link rel=&quot;stylesheet&quot; href=&quot;https://cdn.jsdelivr.net/npm/leaflet@1.9.3/dist/leaflet.css&quot;/&gt;\n",
              "    &lt;link rel=&quot;stylesheet&quot; href=&quot;https://cdn.jsdelivr.net/npm/bootstrap@5.2.2/dist/css/bootstrap.min.css&quot;/&gt;\n",
              "    &lt;link rel=&quot;stylesheet&quot; href=&quot;https://netdna.bootstrapcdn.com/bootstrap/3.0.0/css/bootstrap.min.css&quot;/&gt;\n",
              "    &lt;link rel=&quot;stylesheet&quot; href=&quot;https://cdn.jsdelivr.net/npm/@fortawesome/fontawesome-free@6.2.0/css/all.min.css&quot;/&gt;\n",
              "    &lt;link rel=&quot;stylesheet&quot; href=&quot;https://cdnjs.cloudflare.com/ajax/libs/Leaflet.awesome-markers/2.0.2/leaflet.awesome-markers.css&quot;/&gt;\n",
              "    &lt;link rel=&quot;stylesheet&quot; href=&quot;https://cdn.jsdelivr.net/gh/python-visualization/folium/folium/templates/leaflet.awesome.rotate.min.css&quot;/&gt;\n",
              "    \n",
              "            &lt;meta name=&quot;viewport&quot; content=&quot;width=device-width,\n",
              "                initial-scale=1.0, maximum-scale=1.0, user-scalable=no&quot; /&gt;\n",
              "            &lt;style&gt;\n",
              "                #map_75daae7435d2448ded9fe2cdec45faf4 {\n",
              "                    position: relative;\n",
              "                    width: 100.0%;\n",
              "                    height: 100.0%;\n",
              "                    left: 0.0%;\n",
              "                    top: 0.0%;\n",
              "                }\n",
              "                .leaflet-container { font-size: 1rem; }\n",
              "            &lt;/style&gt;\n",
              "        \n",
              "&lt;/head&gt;\n",
              "&lt;body&gt;\n",
              "    \n",
              "    \n",
              "            &lt;div class=&quot;folium-map&quot; id=&quot;map_75daae7435d2448ded9fe2cdec45faf4&quot; &gt;&lt;/div&gt;\n",
              "        \n",
              "&lt;/body&gt;\n",
              "&lt;script&gt;\n",
              "    \n",
              "    \n",
              "            var map_75daae7435d2448ded9fe2cdec45faf4 = L.map(\n",
              "                &quot;map_75daae7435d2448ded9fe2cdec45faf4&quot;,\n",
              "                {\n",
              "                    center: [36.92553680663232, 50.12655170833266],\n",
              "                    crs: L.CRS.EPSG3857,\n",
              "                    zoom: 12,\n",
              "                    zoomControl: true,\n",
              "                    preferCanvas: false,\n",
              "                }\n",
              "            );\n",
              "\n",
              "            \n",
              "\n",
              "        \n",
              "    \n",
              "            var tile_layer_5e7f188f441bfe8cb28ac47e870024de = L.tileLayer(\n",
              "                &quot;https://{s}.tile.openstreetmap.org/{z}/{x}/{y}.png&quot;,\n",
              "                {&quot;attribution&quot;: &quot;Data by \\u0026copy; \\u003ca target=\\&quot;_blank\\&quot; href=\\&quot;http://openstreetmap.org\\&quot;\\u003eOpenStreetMap\\u003c/a\\u003e, under \\u003ca target=\\&quot;_blank\\&quot; href=\\&quot;http://www.openstreetmap.org/copyright\\&quot;\\u003eODbL\\u003c/a\\u003e.&quot;, &quot;detectRetina&quot;: false, &quot;maxNativeZoom&quot;: 18, &quot;maxZoom&quot;: 18, &quot;minZoom&quot;: 0, &quot;noWrap&quot;: false, &quot;opacity&quot;: 1, &quot;subdomains&quot;: &quot;abc&quot;, &quot;tms&quot;: false}\n",
              "            ).addTo(map_75daae7435d2448ded9fe2cdec45faf4);\n",
              "        \n",
              "    \n",
              "            var tile_layer_ea3d80b5d885efb1fc8419c01637d21b = L.tileLayer(\n",
              "                &quot;https://earthengine.googleapis.com/v1alpha/projects/earthengine-legacy/maps/97c2f4205dcc8ac39a3f6dae7d7ebc2f-ba5d4fa249cdc345c801b5b38604b900/tiles/{z}/{x}/{y}&quot;,\n",
              "                {&quot;attribution&quot;: &quot;Map Data \\u0026copy; \\u003ca href=\\&quot;https://earthengine.google.com/\\&quot;\\u003eGoogle Earth Engine\\u003c/a\\u003e&quot;, &quot;detectRetina&quot;: false, &quot;maxNativeZoom&quot;: 18, &quot;maxZoom&quot;: 18, &quot;minZoom&quot;: 9, &quot;noWrap&quot;: false, &quot;opacity&quot;: 1, &quot;subdomains&quot;: &quot;abc&quot;, &quot;tms&quot;: false}\n",
              "            ).addTo(map_75daae7435d2448ded9fe2cdec45faf4);\n",
              "        \n",
              "    \n",
              "            var tile_layer_2303e1a450270f543b92e8e4c3492c4a = L.tileLayer(\n",
              "                &quot;https://earthengine.googleapis.com/v1alpha/projects/earthengine-legacy/maps/3d460d2af21cd185c9d66c4232955e0f-8017be3d2243dfea79f52b8df743f23c/tiles/{z}/{x}/{y}&quot;,\n",
              "                {&quot;attribution&quot;: &quot;Map Data \\u0026copy; \\u003ca href=\\&quot;https://earthengine.google.com/\\&quot;\\u003eGoogle Earth Engine\\u003c/a\\u003e&quot;, &quot;detectRetina&quot;: false, &quot;maxNativeZoom&quot;: 18, &quot;maxZoom&quot;: 18, &quot;minZoom&quot;: 9, &quot;noWrap&quot;: false, &quot;opacity&quot;: 1, &quot;subdomains&quot;: &quot;abc&quot;, &quot;tms&quot;: false}\n",
              "            ).addTo(map_75daae7435d2448ded9fe2cdec45faf4);\n",
              "        \n",
              "    \n",
              "            var tile_layer_496e23a1db3d82f4b99d53c0f7eb7cbd = L.tileLayer(\n",
              "                &quot;https://earthengine.googleapis.com/v1alpha/projects/earthengine-legacy/maps/87f133118df494d9cc7bad0b32b42216-9ceae5e6c281add44991b21676582032/tiles/{z}/{x}/{y}&quot;,\n",
              "                {&quot;attribution&quot;: &quot;Map Data \\u0026copy; \\u003ca href=\\&quot;https://earthengine.google.com/\\&quot;\\u003eGoogle Earth Engine\\u003c/a\\u003e&quot;, &quot;detectRetina&quot;: false, &quot;maxNativeZoom&quot;: 18, &quot;maxZoom&quot;: 18, &quot;minZoom&quot;: 9, &quot;noWrap&quot;: false, &quot;opacity&quot;: 1, &quot;subdomains&quot;: &quot;abc&quot;, &quot;tms&quot;: false}\n",
              "            ).addTo(map_75daae7435d2448ded9fe2cdec45faf4);\n",
              "        \n",
              "    \n",
              "            var tile_layer_b3915d18ec20b6c5cbc65399e9a9db42 = L.tileLayer(\n",
              "                &quot;https://earthengine.googleapis.com/v1alpha/projects/earthengine-legacy/maps/2a9fa68176350a9e28e9f304a3a190f8-516a415847878f332ddcabae980b6811/tiles/{z}/{x}/{y}&quot;,\n",
              "                {&quot;attribution&quot;: &quot;Map Data \\u0026copy; \\u003ca href=\\&quot;https://earthengine.google.com/\\&quot;\\u003eGoogle Earth Engine\\u003c/a\\u003e&quot;, &quot;detectRetina&quot;: false, &quot;maxNativeZoom&quot;: 18, &quot;maxZoom&quot;: 18, &quot;minZoom&quot;: 9, &quot;noWrap&quot;: false, &quot;opacity&quot;: 1, &quot;subdomains&quot;: &quot;abc&quot;, &quot;tms&quot;: false}\n",
              "            ).addTo(map_75daae7435d2448ded9fe2cdec45faf4);\n",
              "        \n",
              "    \n",
              "            var tile_layer_3091c37c7c6607dacd23cc50ef483953 = L.tileLayer(\n",
              "                &quot;https://earthengine.googleapis.com/v1alpha/projects/earthengine-legacy/maps/8cd56002ce66ac84e7d30c797a408a39-0096dd6675c05cd7626e2fda6d0d8024/tiles/{z}/{x}/{y}&quot;,\n",
              "                {&quot;attribution&quot;: &quot;Map Data \\u0026copy; \\u003ca href=\\&quot;https://earthengine.google.com/\\&quot;\\u003eGoogle Earth Engine\\u003c/a\\u003e&quot;, &quot;detectRetina&quot;: false, &quot;maxNativeZoom&quot;: 18, &quot;maxZoom&quot;: 18, &quot;minZoom&quot;: 9, &quot;noWrap&quot;: false, &quot;opacity&quot;: 1, &quot;subdomains&quot;: &quot;abc&quot;, &quot;tms&quot;: false}\n",
              "            ).addTo(map_75daae7435d2448ded9fe2cdec45faf4);\n",
              "        \n",
              "    \n",
              "            var tile_layer_69f4a9d0de3840d59b714eec3fd9e8ca = L.tileLayer(\n",
              "                &quot;https://earthengine.googleapis.com/v1alpha/projects/earthengine-legacy/maps/3d460d2af21cd185c9d66c4232955e0f-ddf3e29f56fd946f238f8af995ba42f8/tiles/{z}/{x}/{y}&quot;,\n",
              "                {&quot;attribution&quot;: &quot;Map Data \\u0026copy; \\u003ca href=\\&quot;https://earthengine.google.com/\\&quot;\\u003eGoogle Earth Engine\\u003c/a\\u003e&quot;, &quot;detectRetina&quot;: false, &quot;maxNativeZoom&quot;: 18, &quot;maxZoom&quot;: 18, &quot;minZoom&quot;: 9, &quot;noWrap&quot;: false, &quot;opacity&quot;: 1, &quot;subdomains&quot;: &quot;abc&quot;, &quot;tms&quot;: false}\n",
              "            ).addTo(map_75daae7435d2448ded9fe2cdec45faf4);\n",
              "        \n",
              "    \n",
              "            var tile_layer_30de7d69d22a59aeb940d666b7acd3ea = L.tileLayer(\n",
              "                &quot;https://earthengine.googleapis.com/v1alpha/projects/earthengine-legacy/maps/5b378046ec87a3e4c1c73881d060225e-863e11556bad428307715a87b3419472/tiles/{z}/{x}/{y}&quot;,\n",
              "                {&quot;attribution&quot;: &quot;Map Data \\u0026copy; \\u003ca href=\\&quot;https://earthengine.google.com/\\&quot;\\u003eGoogle Earth Engine\\u003c/a\\u003e&quot;, &quot;detectRetina&quot;: false, &quot;maxNativeZoom&quot;: 18, &quot;maxZoom&quot;: 18, &quot;minZoom&quot;: 9, &quot;noWrap&quot;: false, &quot;opacity&quot;: 1, &quot;subdomains&quot;: &quot;abc&quot;, &quot;tms&quot;: false}\n",
              "            ).addTo(map_75daae7435d2448ded9fe2cdec45faf4);\n",
              "        \n",
              "    \n",
              "            var tile_layer_b9620e35062faea016479e5bb0bae4f2 = L.tileLayer(\n",
              "                &quot;https://earthengine.googleapis.com/v1alpha/projects/earthengine-legacy/maps/4a671b4c75044449c4547843adf5ead7-72e8e55924b3db51bc9f96764825b55a/tiles/{z}/{x}/{y}&quot;,\n",
              "                {&quot;attribution&quot;: &quot;Map Data \\u0026copy; \\u003ca href=\\&quot;https://earthengine.google.com/\\&quot;\\u003eGoogle Earth Engine\\u003c/a\\u003e&quot;, &quot;detectRetina&quot;: false, &quot;maxNativeZoom&quot;: 18, &quot;maxZoom&quot;: 18, &quot;minZoom&quot;: 9, &quot;noWrap&quot;: false, &quot;opacity&quot;: 1, &quot;subdomains&quot;: &quot;abc&quot;, &quot;tms&quot;: false}\n",
              "            ).addTo(map_75daae7435d2448ded9fe2cdec45faf4);\n",
              "        \n",
              "    \n",
              "            var tile_layer_d92e8312cd0fcb556d890e740267ce60 = L.tileLayer(\n",
              "                &quot;https://earthengine.googleapis.com/v1alpha/projects/earthengine-legacy/maps/c8eb7705c59d39e86d991859ad060090-efb28d7270ed95366883af2b0a248190/tiles/{z}/{x}/{y}&quot;,\n",
              "                {&quot;attribution&quot;: &quot;Map Data \\u0026copy; \\u003ca href=\\&quot;https://earthengine.google.com/\\&quot;\\u003eGoogle Earth Engine\\u003c/a\\u003e&quot;, &quot;detectRetina&quot;: false, &quot;maxNativeZoom&quot;: 18, &quot;maxZoom&quot;: 18, &quot;minZoom&quot;: 9, &quot;noWrap&quot;: false, &quot;opacity&quot;: 1, &quot;subdomains&quot;: &quot;abc&quot;, &quot;tms&quot;: false}\n",
              "            ).addTo(map_75daae7435d2448ded9fe2cdec45faf4);\n",
              "        \n",
              "    \n",
              "            var layer_control_d8e828558aa4ceefd5747d7bb8d9689a = {\n",
              "                base_layers : {\n",
              "                    &quot;openstreetmap&quot; : tile_layer_5e7f188f441bfe8cb28ac47e870024de,\n",
              "                },\n",
              "                overlays :  {\n",
              "                    &quot;Image 1&quot; : tile_layer_ea3d80b5d885efb1fc8419c01637d21b,\n",
              "                    &quot;Image 2&quot; : tile_layer_2303e1a450270f543b92e8e4c3492c4a,\n",
              "                    &quot;Image 3&quot; : tile_layer_496e23a1db3d82f4b99d53c0f7eb7cbd,\n",
              "                    &quot;Image 4&quot; : tile_layer_b3915d18ec20b6c5cbc65399e9a9db42,\n",
              "                    &quot;S2 image mosaic&quot; : tile_layer_3091c37c7c6607dacd23cc50ef483953,\n",
              "                    &quot;the least cloud of collection&quot; : tile_layer_69f4a9d0de3840d59b714eec3fd9e8ca,\n",
              "                    &quot;mosaic_nocldshdw&quot; : tile_layer_30de7d69d22a59aeb940d666b7acd3ea,\n",
              "                    &quot;S2 cloud first&quot; : tile_layer_b9620e35062faea016479e5bb0bae4f2,\n",
              "                    &quot;S2 cloud median&quot; : tile_layer_d92e8312cd0fcb556d890e740267ce60,\n",
              "                },\n",
              "            };\n",
              "            L.control.layers(\n",
              "                layer_control_d8e828558aa4ceefd5747d7bb8d9689a.base_layers,\n",
              "                layer_control_d8e828558aa4ceefd5747d7bb8d9689a.overlays,\n",
              "                {&quot;autoZIndex&quot;: true, &quot;collapsed&quot;: true, &quot;position&quot;: &quot;topright&quot;}\n",
              "            ).addTo(map_75daae7435d2448ded9fe2cdec45faf4);\n",
              "        \n",
              "&lt;/script&gt;\n",
              "&lt;/html&gt;\" style=\"position:absolute;width:100%;height:100%;left:0;top:0;border:none !important;\" allowfullscreen webkitallowfullscreen mozallowfullscreen></iframe></div></div>"
            ]
          },
          "metadata": {}
        }
      ]
    },
    {
      "cell_type": "code",
      "source": [
        "\n",
        "\n",
        "# Export each band individually\n",
        "# Specify the bands to export\n",
        "bandsToExport = ['B2', 'B3', 'B4', 'B5', 'B6', 'B7', 'B8', 'B8A', 'B11', 'B12', 'TCI_R', 'TCI_G', 'TCI_B']\n",
        "for bandName in bandsToExport:\n",
        "        # Select the band\n",
        "        band = s2_sr_median.select(bandName)\n",
        "\n",
        "        # Specify the export parameters\n",
        "        exportParams = {\n",
        "            'image': band,\n",
        "            'description': 'sentinel2_R64C26_ai_' + bandName,\n",
        "            'folder': 'Sentinel2_Images',  # Specify the folder in Google Drive to save the image\n",
        "            'scale': 10,  # Specify the desired spatial resolution (e.g., 10 meters)\n",
        "            'crs': 'EPSG:4326',  # Specify the coordinate reference system\n",
        "            'region': AOI  # Specify the region of interest\n",
        "        }\n",
        "\n",
        "        # Start the export task\n",
        "        task = ee.batch.Export.image.toDrive(**exportParams)\n",
        "        task.start()\n",
        "\n",
        "        print('Exporting ' + bandName + ' band to Google Drive. Please wait...')"
      ],
      "metadata": {
        "colab": {
          "base_uri": "https://localhost:8080/"
        },
        "id": "FrTZhsumUdoa",
        "outputId": "23e1d189-6d02-4107-e686-5ddac3e89ae6"
      },
      "execution_count": null,
      "outputs": [
        {
          "output_type": "stream",
          "name": "stdout",
          "text": [
            "Exporting B2 band to Google Drive. Please wait...\n",
            "Exporting B3 band to Google Drive. Please wait...\n",
            "Exporting B4 band to Google Drive. Please wait...\n",
            "Exporting B5 band to Google Drive. Please wait...\n",
            "Exporting B6 band to Google Drive. Please wait...\n",
            "Exporting B7 band to Google Drive. Please wait...\n",
            "Exporting B8 band to Google Drive. Please wait...\n",
            "Exporting B8A band to Google Drive. Please wait...\n",
            "Exporting B11 band to Google Drive. Please wait...\n",
            "Exporting B12 band to Google Drive. Please wait...\n",
            "Exporting TCI_R band to Google Drive. Please wait...\n",
            "Exporting TCI_G band to Google Drive. Please wait...\n",
            "Exporting TCI_B band to Google Drive. Please wait...\n"
          ]
        }
      ]
    },
    {
      "cell_type": "code",
      "source": [
        "task.status()"
      ],
      "metadata": {
        "colab": {
          "base_uri": "https://localhost:8080/"
        },
        "id": "YyGAY0S3Uhrx",
        "outputId": "381138ee-d954-4fd1-87d5-a2b3fd9f5eab"
      },
      "execution_count": null,
      "outputs": [
        {
          "output_type": "execute_result",
          "data": {
            "text/plain": [
              "{'state': 'COMPLETED',\n",
              " 'description': 'sentinel2_R64C26_ai_TCI_B',\n",
              " 'creation_timestamp_ms': 1687174741731,\n",
              " 'update_timestamp_ms': 1687174986141,\n",
              " 'start_timestamp_ms': 1687174867451,\n",
              " 'task_type': 'EXPORT_IMAGE',\n",
              " 'destination_uris': ['https://drive.google.com/#folders/1w4GCzYGx7TqqUWOpuODuW0W7vnymD6th'],\n",
              " 'attempt': 1,\n",
              " 'batch_eecu_usage_seconds': 48.546600341796875,\n",
              " 'id': 'JKFDIGFYYIKNCYPZDDX5TXJK',\n",
              " 'name': 'projects/earthengine-legacy/operations/JKFDIGFYYIKNCYPZDDX5TXJK'}"
            ]
          },
          "metadata": {},
          "execution_count": 657
        }
      ]
    },
    {
      "cell_type": "code",
      "source": [],
      "metadata": {
        "id": "Pjyrs-quWukT"
      },
      "execution_count": null,
      "outputs": []
    }
  ]
}